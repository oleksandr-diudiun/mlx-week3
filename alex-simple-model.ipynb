{
 "cells": [
  {
   "cell_type": "code",
   "execution_count": 2,
   "metadata": {},
   "outputs": [],
   "source": [
    "import torch\n",
    "import numpy as np\n",
    "import pandas as pd\n",
    "import torch.nn as nn\n",
    "import torch.optim as optim\n",
    "import sentencepiece as spm\n",
    "import matplotlib.pyplot as plt\n",
    "import multiprocessing\n",
    "import time\n",
    "from gensim.models import Word2Vec\n",
    "from torch.utils.data import Dataset, DataLoader"
   ]
  },
  {
   "cell_type": "markdown",
   "metadata": {},
   "source": [
    "### collect all texts to one dataset"
   ]
  },
  {
   "cell_type": "code",
   "execution_count": 13,
   "metadata": {},
   "outputs": [
    {
     "name": "stdout",
     "output_type": "stream",
     "text": [
      "Index(['answers', 'passages', 'query', 'query_id', 'query_type',\n",
      "       'wellFormedAnswers'],\n",
      "      dtype='object')\n",
      "0                  does human hair stop squirrels\n",
      "1           what are the benefits of fossil fuels\n",
      "2                               what is a apothem\n",
      "3                  average cost for custom canopy\n",
      "4                what is a hardware in a computer\n",
      "                          ...                    \n",
      "9645    how long can you keep bacon in the fridge\n",
      "9646     what is growth bmi mean in medical terms\n",
      "9647       can an llc apply for more than one dba\n",
      "9648                      bisque color definition\n",
      "9649                     what are synthetic drugs\n",
      "Name: query, Length: 9650, dtype: object\n"
     ]
    }
   ],
   "source": [
    "train = pd.read_parquet('train.parquet')\n",
    "test = pd.read_parquet('test.parquet')\n",
    "validate = pd.read_parquet('validate.parquet')\n",
    "\n",
    "print(test.columns)\n",
    "print(test['query'])\n",
    "\n",
    "with open('AllTexts.txt', 'w') as f:\n",
    "    pass  # This just creates the file, immediately closing it\n",
    "\n",
    "with open('AllTexts.txt', 'a') as f:  # Open file in append mode\n",
    "    for _, row in train.iterrows():\n",
    "        concatenated = '\\n'.join(row['passages']['passage_text'])\n",
    "        concatenated = '\\n'.join([concatenated, '\\n'.join(row['answers'])])\n",
    "        concatenated = '\\n'.join([concatenated, row['query']])\n",
    "        f.write(concatenated + '\\n')\n",
    "    for _, row in test.iterrows():\n",
    "        concatenated = '\\n'.join(row['passages']['passage_text'])\n",
    "        concatenated = '\\n'.join([concatenated, '\\n'.join(row['answers'])])\n",
    "        concatenated = '\\n'.join([concatenated, row['query']])\n",
    "        f.write(concatenated + '\\n')\n",
    "    for _, row in validate.iterrows():\n",
    "        concatenated = '\\n'.join(row['passages']['passage_text'])\n",
    "        concatenated = '\\n'.join([concatenated, '\\n'.join(row['answers'])])\n",
    "        concatenated = '\\n'.join([concatenated, row['query']])\n",
    "        f.write(concatenated + '\\n')"
   ]
  },
  {
   "cell_type": "markdown",
   "metadata": {},
   "source": [
    "### train tokanizer"
   ]
  },
  {
   "cell_type": "markdown",
   "metadata": {},
   "source": []
  }
 ],
 "metadata": {
  "kernelspec": {
   "display_name": "Python 3",
   "language": "python",
   "name": "python3"
  },
  "language_info": {
   "codemirror_mode": {
    "name": "ipython",
    "version": 3
   },
   "file_extension": ".py",
   "mimetype": "text/x-python",
   "name": "python",
   "nbconvert_exporter": "python",
   "pygments_lexer": "ipython3",
   "version": "3.11.8"
  }
 },
 "nbformat": 4,
 "nbformat_minor": 2
}
