{
 "cells": [
  {
   "cell_type": "code",
   "execution_count": 19,
   "metadata": {},
   "outputs": [],
   "source": [
    "# Training loop:\n",
    "# 1. Create torch dataset from the data containing the query, positive, negative example.\n",
    "# 2. Create a dataloader from the dataset.\n",
    "# 3. Run a single batch through the model."
   ]
  },
  {
   "cell_type": "code",
   "execution_count": 20,
   "metadata": {},
   "outputs": [
    {
     "name": "stdout",
     "output_type": "stream",
     "text": [
      "The following packages are already present in the pyproject.toml and will be skipped:\n",
      "\n",
      "  • \u001b[36mpandas\u001b[39m\n",
      "\n",
      "If you want to update it to the latest compatible version, you can use `poetry update package`.\n",
      "If you prefer to upgrade it to the latest available version, you can use `poetry add package@latest`.\n",
      "\n",
      "Nothing to add.\n"
     ]
    }
   ],
   "source": [
    "!poetry add pandas"
   ]
  },
  {
   "cell_type": "code",
   "execution_count": 21,
   "metadata": {},
   "outputs": [],
   "source": [
    "from torch.utils.data import DataLoader, Dataset\n",
    "import pandas as pd"
   ]
  },
  {
   "cell_type": "code",
   "execution_count": 342,
   "metadata": {},
   "outputs": [],
   "source": [
    "## Load data\n",
    "train = pd.read_parquet(\"train.parquet\")\n",
    "test = pd.read_parquet(\"test.parquet\")\n",
    "validate = pd.read_parquet(\"validate.parquet\")"
   ]
  },
  {
   "cell_type": "code",
   "execution_count": 23,
   "metadata": {},
   "outputs": [
    {
     "name": "stdout",
     "output_type": "stream",
     "text": [
      "(82326, 6) (9650, 6) (10047, 6)\n"
     ]
    }
   ],
   "source": [
    "print(train.shape, test.shape, validate.shape)"
   ]
  },
  {
   "cell_type": "markdown",
   "metadata": {},
   "source": []
  },
  {
   "cell_type": "code",
   "execution_count": 24,
   "metadata": {},
   "outputs": [],
   "source": [
    "full_dataset = pd.concat([train, test, validate])"
   ]
  },
  {
   "cell_type": "code",
   "execution_count": 241,
   "metadata": {},
   "outputs": [
    {
     "data": {
      "text/html": [
       "<div>\n",
       "<style scoped>\n",
       "    .dataframe tbody tr th:only-of-type {\n",
       "        vertical-align: middle;\n",
       "    }\n",
       "\n",
       "    .dataframe tbody tr th {\n",
       "        vertical-align: top;\n",
       "    }\n",
       "\n",
       "    .dataframe thead th {\n",
       "        text-align: right;\n",
       "    }\n",
       "</style>\n",
       "<table border=\"1\" class=\"dataframe\">\n",
       "  <thead>\n",
       "    <tr style=\"text-align: right;\">\n",
       "      <th></th>\n",
       "      <th>answers</th>\n",
       "      <th>passages</th>\n",
       "      <th>query</th>\n",
       "      <th>query_id</th>\n",
       "      <th>query_type</th>\n",
       "      <th>wellFormedAnswers</th>\n",
       "    </tr>\n",
       "  </thead>\n",
       "  <tbody>\n",
       "    <tr>\n",
       "      <th>0</th>\n",
       "      <td>[Results-Based Accountability is a disciplined...</td>\n",
       "      <td>{'is_selected': [0, 0, 0, 0, 0, 1, 0, 0, 0, 0]...</td>\n",
       "      <td>what is rba</td>\n",
       "      <td>19699</td>\n",
       "      <td>description</td>\n",
       "      <td>[]</td>\n",
       "    </tr>\n",
       "    <tr>\n",
       "      <th>2</th>\n",
       "      <td>[20-25 minutes]</td>\n",
       "      <td>{'is_selected': [0, 0, 0, 0, 1, 0, 0, 0, 0, 0]...</td>\n",
       "      <td>how long do you need for sydney and surroundin...</td>\n",
       "      <td>19701</td>\n",
       "      <td>numeric</td>\n",
       "      <td>[]</td>\n",
       "    </tr>\n",
       "  </tbody>\n",
       "</table>\n",
       "</div>"
      ],
      "text/plain": [
       "                                             answers  \\\n",
       "0  [Results-Based Accountability is a disciplined...   \n",
       "2                                    [20-25 minutes]   \n",
       "\n",
       "                                            passages  \\\n",
       "0  {'is_selected': [0, 0, 0, 0, 0, 1, 0, 0, 0, 0]...   \n",
       "2  {'is_selected': [0, 0, 0, 0, 1, 0, 0, 0, 0, 0]...   \n",
       "\n",
       "                                               query  query_id   query_type  \\\n",
       "0                                        what is rba     19699  description   \n",
       "2  how long do you need for sydney and surroundin...     19701      numeric   \n",
       "\n",
       "  wellFormedAnswers  \n",
       "0                []  \n",
       "2                []  "
      ]
     },
     "execution_count": 241,
     "metadata": {},
     "output_type": "execute_result"
    }
   ],
   "source": [
    "full_dataset[full_dataset[\"query_id\"].isin([19699, 19701])]"
   ]
  },
  {
   "cell_type": "code",
   "execution_count": null,
   "metadata": {},
   "outputs": [],
   "source": [
    "# Save the Query IDs for each dataset to use on later."
   ]
  },
  {
   "cell_type": "code",
   "execution_count": 25,
   "metadata": {},
   "outputs": [
    {
     "name": "stdout",
     "output_type": "stream",
     "text": [
      "102023\n"
     ]
    }
   ],
   "source": [
    "total_size = train.shape[0] + test.shape[0] + validate.shape[0]\n",
    "print(total_size)\n",
    "# Rerun this code only if you want to generate new indices.\n",
    "import numpy as np\n",
    "import pickle\n",
    "\n",
    "# np.random.seed(seed=999999)\n",
    "# indices = np.random.randint(0, total_size, total_size)\n",
    "# train_indices = indices[0:train.shape[0]]\n",
    "# test_indices = indices[train.shape[0]:train.shape[0]+test.shape[0]]\n",
    "# validate_indices = indices[train.shape[0]+test.shape[0]:]\n",
    "# all_indices = {'train': train_indices.tolist(), 'test': test_indices.tolist(), 'validate': validate_indices.tolist()}\n",
    "# print(f\"Length of all indices: {sum(len(v) for k, v in all_indices.items())}\")\n",
    "# # write these to a pickle file\n",
    "\n",
    "# with open('indices.pkl', 'wb') as f:\n",
    "#     pickle.dump(all_indices, f)\n",
    "\n",
    "# create train, test, validation datasets based on query_ids\n",
    "# query_ids = full_dataset['query_id']\n",
    "# train_query_ids = query_ids[0:train.shape[0]]\n",
    "# test_query_ids = query_ids[train.shape[0]:train.shape[0]+test.shape[0]]\n",
    "# validate_query_ids = query_ids[train.shape[0]+test.shape[0]:]\n",
    "# print(train_query_ids.shape, test_query_ids.shape, validate_query_ids.shape)\n",
    "# all_query_ids  = {'train': train_query_ids.tolist(), 'test': test_query_ids.tolist(), 'validate': validate_query_ids.tolist()}\n",
    "# # write these to a pickle file\n",
    "\n",
    "# with open('query_ids.pkl', 'wb') as f:\n",
    "#     pickle.dump(all_query_ids, f)"
   ]
  },
  {
   "cell_type": "code",
   "execution_count": 351,
   "metadata": {},
   "outputs": [
    {
     "name": "stdout",
     "output_type": "stream",
     "text": [
      "82326 training indices [36233, 13668, 19591, 66699, 34957, 34882, 23273, 27926, 90079, 68436]\n",
      "9650 test indices [27928, 5317, 97860, 83225, 90861, 42316, 42625, 98527, 74133, 95026]\n",
      "10047 validate indices [94011, 72401, 60227, 70263, 35765, 47026, 31472, 3385, 21289, 545]\n",
      "82326 training query ids [19699, 19700, 19701, 19702, 19703, 19704, 19705, 19706, 19707, 19708]\n",
      "9650 test query ids [0, 1, 2, 3, 4, 5, 6, 7, 8, 9]\n",
      "10047 validate query ids [9652, 9653, 9654, 9655, 9656, 9657, 9658, 9659, 9660, 9661]\n"
     ]
    }
   ],
   "source": [
    "# Unpickle and test\n",
    "with open(\"indices.pkl\", \"rb\") as f:\n",
    "    all_indices = pickle.load(f)\n",
    "\n",
    "    print(f\"{len(all_indices['train'])} training indices {all_indices['train'][0:10]}\")\n",
    "    print(f\"{len(all_indices['test'])} test indices {all_indices['test'][0:10]}\")\n",
    "    print(\n",
    "        f\"{len(all_indices['validate'])} validate indices {all_indices['validate'][0:10]}\"\n",
    "    )\n",
    "\n",
    "with open(\"query_ids.pkl\", \"rb\") as f:\n",
    "    all_query_ids = pickle.load(f)\n",
    "    print(\n",
    "        f\"{len(all_query_ids['train'])} training query ids {all_query_ids['train'][0:10]}\"\n",
    "    )\n",
    "    print(f\"{len(all_query_ids['test'])} test query ids {all_query_ids['test'][0:10]}\")\n",
    "    print(\n",
    "        f\"{len(all_query_ids['validate'])} validate query ids {all_query_ids['validate'][0:10]}\"\n",
    "    )"
   ]
  },
  {
   "cell_type": "code",
   "execution_count": 361,
   "metadata": {},
   "outputs": [
    {
     "data": {
      "text/plain": [
       "'what is rba'"
      ]
     },
     "execution_count": 361,
     "metadata": {},
     "output_type": "execute_result"
    }
   ],
   "source": [
    "# train[['passages', 'query']].iloc[0]\n",
    "train_dataset = full_dataset[full_dataset.query_id.isin(all_query_ids[\"train\"])]\n",
    "test_dataset = full_dataset[full_dataset.query_id.isin(all_query_ids[\"test\"])]\n",
    "validate_dataset = full_dataset[full_dataset.query_id.isin(all_query_ids[\"validate\"])]\n",
    "\n",
    "train_dataset.head()[\"query\"].iloc[0]"
   ]
  },
  {
   "cell_type": "code",
   "execution_count": 362,
   "metadata": {},
   "outputs": [
    {
     "name": "stdout",
     "output_type": "stream",
     "text": [
      "True\n",
      "True\n"
     ]
    }
   ],
   "source": [
    "print(f\"{np.all(train.query_id.value_counts() == 1)}\")\n",
    "print(f\"{np.all(train_dataset.query_id.value_counts() == 1)}\")\n",
    "assert np.all(train.query_id.value_counts() == 1)\n",
    "assert np.all(train_dataset.query_id.value_counts() == 1)\n",
    "assert np.all(validate.query_id.value_counts() == 1)"
   ]
  },
  {
   "cell_type": "code",
   "execution_count": 238,
   "metadata": {},
   "outputs": [
    {
     "data": {
      "text/html": [
       "<div>\n",
       "<style scoped>\n",
       "    .dataframe tbody tr th:only-of-type {\n",
       "        vertical-align: middle;\n",
       "    }\n",
       "\n",
       "    .dataframe tbody tr th {\n",
       "        vertical-align: top;\n",
       "    }\n",
       "\n",
       "    .dataframe thead th {\n",
       "        text-align: right;\n",
       "    }\n",
       "</style>\n",
       "<table border=\"1\" class=\"dataframe\">\n",
       "  <thead>\n",
       "    <tr style=\"text-align: right;\">\n",
       "      <th></th>\n",
       "      <th>answers</th>\n",
       "      <th>passages</th>\n",
       "      <th>query</th>\n",
       "      <th>query_id</th>\n",
       "      <th>query_type</th>\n",
       "      <th>wellFormedAnswers</th>\n",
       "    </tr>\n",
       "  </thead>\n",
       "  <tbody>\n",
       "    <tr>\n",
       "      <th>0</th>\n",
       "      <td>[Results-Based Accountability is a disciplined...</td>\n",
       "      <td>{'is_selected': [0, 0, 0, 0, 0, 1, 0, 0, 0, 0]...</td>\n",
       "      <td>what is rba</td>\n",
       "      <td>19699</td>\n",
       "      <td>description</td>\n",
       "      <td>[]</td>\n",
       "    </tr>\n",
       "    <tr>\n",
       "      <th>1</th>\n",
       "      <td>[Yes]</td>\n",
       "      <td>{'is_selected': [0, 1, 0, 0, 0, 0, 0], 'passag...</td>\n",
       "      <td>was ronald reagan a democrat</td>\n",
       "      <td>19700</td>\n",
       "      <td>description</td>\n",
       "      <td>[]</td>\n",
       "    </tr>\n",
       "    <tr>\n",
       "      <th>2</th>\n",
       "      <td>[20-25 minutes]</td>\n",
       "      <td>{'is_selected': [0, 0, 0, 0, 1, 0, 0, 0, 0, 0]...</td>\n",
       "      <td>how long do you need for sydney and surroundin...</td>\n",
       "      <td>19701</td>\n",
       "      <td>numeric</td>\n",
       "      <td>[]</td>\n",
       "    </tr>\n",
       "    <tr>\n",
       "      <th>3</th>\n",
       "      <td>[$11 to $22 per square foot]</td>\n",
       "      <td>{'is_selected': [0, 0, 0, 0, 0, 0, 0, 0, 1], '...</td>\n",
       "      <td>price to install tile in shower</td>\n",
       "      <td>19702</td>\n",
       "      <td>numeric</td>\n",
       "      <td>[]</td>\n",
       "    </tr>\n",
       "    <tr>\n",
       "      <th>4</th>\n",
       "      <td>[Due to symptoms in the body]</td>\n",
       "      <td>{'is_selected': [0, 0, 1, 0, 0, 0, 0, 0], 'pas...</td>\n",
       "      <td>why conversion observed in body</td>\n",
       "      <td>19703</td>\n",
       "      <td>description</td>\n",
       "      <td>[]</td>\n",
       "    </tr>\n",
       "  </tbody>\n",
       "</table>\n",
       "</div>"
      ],
      "text/plain": [
       "                                             answers  \\\n",
       "0  [Results-Based Accountability is a disciplined...   \n",
       "1                                              [Yes]   \n",
       "2                                    [20-25 minutes]   \n",
       "3                       [$11 to $22 per square foot]   \n",
       "4                      [Due to symptoms in the body]   \n",
       "\n",
       "                                            passages  \\\n",
       "0  {'is_selected': [0, 0, 0, 0, 0, 1, 0, 0, 0, 0]...   \n",
       "1  {'is_selected': [0, 1, 0, 0, 0, 0, 0], 'passag...   \n",
       "2  {'is_selected': [0, 0, 0, 0, 1, 0, 0, 0, 0, 0]...   \n",
       "3  {'is_selected': [0, 0, 0, 0, 0, 0, 0, 0, 1], '...   \n",
       "4  {'is_selected': [0, 0, 1, 0, 0, 0, 0, 0], 'pas...   \n",
       "\n",
       "                                               query  query_id   query_type  \\\n",
       "0                                        what is rba     19699  description   \n",
       "1                       was ronald reagan a democrat     19700  description   \n",
       "2  how long do you need for sydney and surroundin...     19701      numeric   \n",
       "3                    price to install tile in shower     19702      numeric   \n",
       "4                    why conversion observed in body     19703  description   \n",
       "\n",
       "  wellFormedAnswers  \n",
       "0                []  \n",
       "1                []  \n",
       "2                []  \n",
       "3                []  \n",
       "4                []  "
      ]
     },
     "execution_count": 238,
     "metadata": {},
     "output_type": "execute_result"
    }
   ],
   "source": [
    "full_dataset.head()"
   ]
  },
  {
   "cell_type": "code",
   "execution_count": null,
   "metadata": {},
   "outputs": [],
   "source": [
    "from utils.data_utils import create_lookups, add_hashed_urls"
   ]
  },
  {
   "cell_type": "code",
   "execution_count": 364,
   "metadata": {},
   "outputs": [
    {
     "name": "stdout",
     "output_type": "stream",
     "text": [
      "dataset shape: (102023, 6)\n",
      "Total number of urls: 837729\n",
      "Total number of unique urls: 456487\n",
      "Total number of hashed urls: 456487\n",
      "Total number of queries: 102023\n"
     ]
    },
    {
     "name": "stderr",
     "output_type": "stream",
     "text": [
      "100%|██████████| 82326/82326 [00:00<00:00, 197706.24it/s]\n",
      "/var/folders/fk/dlmj8gqd4ms2jgbkv_33skth0000gn/T/ipykernel_77110/1830918971.py:40: SettingWithCopyWarning: \n",
      "A value is trying to be set on a copy of a slice from a DataFrame.\n",
      "Try using .loc[row_indexer,col_indexer] = value instead\n",
      "\n",
      "See the caveats in the documentation: https://pandas.pydata.org/pandas-docs/stable/user_guide/indexing.html#returning-a-view-versus-a-copy\n",
      "  dataset.loc[:, \"hashed_urls\"] = dataset[\"passages\"].progress_apply(\n",
      "100%|██████████| 9650/9650 [00:00<00:00, 183872.95it/s]\n",
      "/var/folders/fk/dlmj8gqd4ms2jgbkv_33skth0000gn/T/ipykernel_77110/1830918971.py:40: SettingWithCopyWarning: \n",
      "A value is trying to be set on a copy of a slice from a DataFrame.\n",
      "Try using .loc[row_indexer,col_indexer] = value instead\n",
      "\n",
      "See the caveats in the documentation: https://pandas.pydata.org/pandas-docs/stable/user_guide/indexing.html#returning-a-view-versus-a-copy\n",
      "  dataset.loc[:, \"hashed_urls\"] = dataset[\"passages\"].progress_apply(\n",
      "100%|██████████| 10047/10047 [00:00<00:00, 193494.37it/s]\n",
      "/var/folders/fk/dlmj8gqd4ms2jgbkv_33skth0000gn/T/ipykernel_77110/1830918971.py:40: SettingWithCopyWarning: \n",
      "A value is trying to be set on a copy of a slice from a DataFrame.\n",
      "Try using .loc[row_indexer,col_indexer] = value instead\n",
      "\n",
      "See the caveats in the documentation: https://pandas.pydata.org/pandas-docs/stable/user_guide/indexing.html#returning-a-view-versus-a-copy\n",
      "  dataset.loc[:, \"hashed_urls\"] = dataset[\"passages\"].progress_apply(\n"
     ]
    }
   ],
   "source": [
    "ids_to_urls, urls_to_ids, url_to_doctext_mapping = create_lookups(full_dataset)\n",
    "add_hashed_urls(train_dataset, urls_to_ids)\n",
    "add_hashed_urls(test_dataset, urls_to_ids)\n",
    "add_hashed_urls(validate_dataset, urls_to_ids)"
   ]
  },
  {
   "cell_type": "code",
   "execution_count": 279,
   "metadata": {},
   "outputs": [
    {
     "data": {
      "text/plain": [
       "array(['https://en.wikipedia.org/wiki/Reserve_Bank_of_Australia',\n",
       "       'https://en.wikipedia.org/wiki/Reserve_Bank_of_Australia',\n",
       "       'http://acronyms.thefreedictionary.com/RBA',\n",
       "       'https://www.slimvapepen.com/rebuildable-atomizer-rba/',\n",
       "       'http://rba-africa.com/about/what-is-rba/',\n",
       "       'http://resultsleadership.org/what-is-results-based-accountability-rba/',\n",
       "       'http://rba-africa.com/about/what-is-rba/',\n",
       "       'http://searchsecurity.techtarget.com/definition/risk-based-authentication-RBA',\n",
       "       'https://www.slimvapepen.com/rebuildable-atomizer-rba/',\n",
       "       'http://www.rbaconsulting.com/'], dtype=object)"
      ]
     },
     "execution_count": 279,
     "metadata": {},
     "output_type": "execute_result"
    }
   ],
   "source": [
    "train[\"passages\"].iloc[0][\"url\"]"
   ]
  },
  {
   "cell_type": "code",
   "execution_count": 365,
   "metadata": {},
   "outputs": [
    {
     "name": "stdout",
     "output_type": "stream",
     "text": [
      "For example, you could contribute $2,500 to a Roth IRA with one provider and $3,000 with a second provider. You cannot contribute $5,500 to the first Roth IRA and $5,500 to the second provider. Your total contribution limit is $5,500 for all accounts for the tax year. Individuals may contribute money to a Roth IRA from January 1 of the current tax year to April 15 of the following tax year. Contributions are made with post-tax dollars. You pay tax today so that in retirement no tax is charged to you in retirement.\n",
      "c2f05ed2ec73e1b97799c70e4cdbed8f\n",
      "http://rba-africa.com/about/what-is-rba/\n"
     ]
    }
   ],
   "source": [
    "print(url_to_doctext_mapping[\"51456f6eae52e682e8cc2877123547df\"])\n",
    "print(urls_to_ids[\"http://rba-africa.com/about/what-is-rba/\"])\n",
    "print(ids_to_urls[\"c2f05ed2ec73e1b97799c70e4cdbed8f\"])"
   ]
  },
  {
   "cell_type": "code",
   "execution_count": null,
   "metadata": {},
   "outputs": [],
   "source": [
    "from tqdm import tqdm\n",
    "\n",
    "tqdm.pandas()"
   ]
  },
  {
   "cell_type": "markdown",
   "metadata": {},
   "source": []
  },
  {
   "cell_type": "code",
   "execution_count": 366,
   "metadata": {},
   "outputs": [],
   "source": [
    "master_url_id_set = np.array(\n",
    "    list(set(ids_to_urls.keys()))\n",
    ")  # Define or load your master_url_id_set here"
   ]
  },
  {
   "cell_type": "markdown",
   "metadata": {},
   "source": [
    "# Triples"
   ]
  },
  {
   "cell_type": "code",
   "execution_count": 131,
   "metadata": {},
   "outputs": [],
   "source": [
    "# Splitting the dataset for demonstration; in practice, adjust based on your dataset size\n",
    "from concurrent.futures import ProcessPoolExecutor, as_completed\n",
    "from functools import partial\n",
    "import utils\n",
    "import importlib\n",
    "\n",
    "importlib.reload(utils)\n",
    "importlib.reload(utils.data_utils)\n",
    "from utils.data_utils import add_negative_samples"
   ]
  },
  {
   "cell_type": "code",
   "execution_count": 367,
   "metadata": {},
   "outputs": [
    {
     "name": "stderr",
     "output_type": "stream",
     "text": [
      "/Users/sid/workspace/mlx-week3/.venv/lib/python3.11/site-packages/numpy/core/fromnumeric.py:59: FutureWarning: 'Series.swapaxes' is deprecated and will be removed in a future version. Please use 'Series.transpose' instead.\n",
      "  return bound(*args, **kwds)\n",
      "Processing Batches: 100%|██████████| 10/10 [11:02<00:00, 66.24s/it]  \n"
     ]
    }
   ],
   "source": [
    "training_dataset_copy = train_dataset.copy()\n",
    "add_negative_samples(training_dataset_copy, ids_to_urls)"
   ]
  },
  {
   "cell_type": "code",
   "execution_count": 368,
   "metadata": {},
   "outputs": [],
   "source": [
    "assert np.all(training_dataset_copy.query_id.value_counts() == 1)"
   ]
  },
  {
   "cell_type": "code",
   "execution_count": 370,
   "metadata": {},
   "outputs": [
    {
     "name": "stderr",
     "output_type": "stream",
     "text": [
      "/Users/sid/workspace/mlx-week3/.venv/lib/python3.11/site-packages/numpy/core/fromnumeric.py:59: FutureWarning: 'Series.swapaxes' is deprecated and will be removed in a future version. Please use 'Series.transpose' instead.\n",
      "  return bound(*args, **kwds)\n",
      "Processing Batches: 100%|██████████| 10/10 [01:18<00:00,  7.88s/it]\n"
     ]
    }
   ],
   "source": [
    "test_dataset_copy = test_dataset.copy()\n",
    "add_negative_samples(test_dataset_copy, ids_to_urls)"
   ]
  },
  {
   "cell_type": "code",
   "execution_count": 371,
   "metadata": {},
   "outputs": [],
   "source": [
    "# Sanity check\n",
    "assert np.all(test_dataset_copy.query_id.value_counts() == 1)"
   ]
  },
  {
   "cell_type": "code",
   "execution_count": 372,
   "metadata": {},
   "outputs": [
    {
     "name": "stderr",
     "output_type": "stream",
     "text": [
      "/Users/sid/workspace/mlx-week3/.venv/lib/python3.11/site-packages/numpy/core/fromnumeric.py:59: FutureWarning: 'Series.swapaxes' is deprecated and will be removed in a future version. Please use 'Series.transpose' instead.\n",
      "  return bound(*args, **kwds)\n",
      "Processing Batches: 100%|██████████| 10/10 [01:29<00:00,  8.98s/it]\n"
     ]
    }
   ],
   "source": [
    "validate_dataset_copy = validate_dataset.copy()\n",
    "add_negative_samples(validate_dataset_copy, ids_to_urls)"
   ]
  },
  {
   "cell_type": "code",
   "execution_count": 373,
   "metadata": {},
   "outputs": [],
   "source": [
    "# Sanity check\n",
    "assert np.all(validate_dataset_copy.query_id.value_counts() == 1)"
   ]
  },
  {
   "cell_type": "code",
   "execution_count": 374,
   "metadata": {},
   "outputs": [],
   "source": [
    "triple_columns = [\"query_id\", \"query\", \"hashed_urls\", \"negative_sample_urls\"]\n",
    "training_dataset_copy[triple_columns].to_parquet(\n",
    "    \"training_dataset_triplets.parquet\", engine=\"pyarrow\"\n",
    ")"
   ]
  },
  {
   "cell_type": "code",
   "execution_count": 375,
   "metadata": {},
   "outputs": [],
   "source": [
    "test_dataset_copy[triple_columns].to_parquet(\n",
    "    \"test_dataset_triplets.parquet\", engine=\"pyarrow\"\n",
    ")"
   ]
  },
  {
   "cell_type": "code",
   "execution_count": 376,
   "metadata": {},
   "outputs": [],
   "source": [
    "validate_dataset_copy[triple_columns].to_parquet(\n",
    "    \"validate_dataset_triplets.parquet\", engine=\"pyarrow\"\n",
    ")"
   ]
  },
  {
   "cell_type": "code",
   "execution_count": 377,
   "metadata": {},
   "outputs": [
    {
     "name": "stdout",
     "output_type": "stream",
     "text": [
      "82326\n",
      "82326\n",
      "[7, 6, 6, 6, 7, 8, 4, 6, 7, 5]\n",
      "[7, 6, 6, 6, 7, 8, 4, 6, 7, 5]\n"
     ]
    }
   ],
   "source": [
    "# There is a unit test to test this in the tests/ dir.\n",
    "s1 = list([len(i[1][\"negative_sample_urls\"]) for i in training_dataset_copy.iterrows()])\n",
    "s2 = list([len(i[1][\"hashed_urls\"]) for i in training_dataset_copy.iterrows()])\n",
    "print(len(s1))\n",
    "print(len(s2))\n",
    "print(s1[0:10])\n",
    "print(s2[0:10])\n",
    "assert s1 == s2"
   ]
  },
  {
   "cell_type": "markdown",
   "metadata": {},
   "source": [
    "# Triples -> Embeddings\n"
   ]
  },
  {
   "cell_type": "code",
   "execution_count": 159,
   "metadata": {},
   "outputs": [],
   "source": [
    "import sentencepiece as spm\n",
    "from gensim.models import Word2Vec\n",
    "import multiprocessing"
   ]
  },
  {
   "cell_type": "code",
   "execution_count": 160,
   "metadata": {},
   "outputs": [
    {
     "data": {
      "text/plain": [
       "True"
      ]
     },
     "execution_count": 160,
     "metadata": {},
     "output_type": "execute_result"
    }
   ],
   "source": [
    "sp = spm.SentencePieceProcessor()\n",
    "sp.load(\"spm_AllTexts.model\")"
   ]
  },
  {
   "cell_type": "code",
   "execution_count": 161,
   "metadata": {},
   "outputs": [],
   "source": [
    "EMBEDDING_SIZE = 128"
   ]
  },
  {
   "cell_type": "code",
   "execution_count": 162,
   "metadata": {},
   "outputs": [],
   "source": [
    "w2v_model = Word2Vec(\n",
    "    min_count=20,\n",
    "    window=10,\n",
    "    vector_size=EMBEDDING_SIZE,\n",
    "    sample=6e-5,\n",
    "    alpha=0.03,\n",
    "    min_alpha=0.0007,\n",
    "    negative=20,\n",
    "    workers=multiprocessing.cpu_count() - 1,\n",
    ")"
   ]
  },
  {
   "cell_type": "code",
   "execution_count": 163,
   "metadata": {},
   "outputs": [],
   "source": [
    "w2v_model = Word2Vec.load(\"word2vec.model\")"
   ]
  },
  {
   "cell_type": "markdown",
   "metadata": {},
   "source": [
    "### Convert the tripleID's to embeddings"
   ]
  },
  {
   "cell_type": "code",
   "execution_count": 283,
   "metadata": {},
   "outputs": [],
   "source": [
    "import importlib\n",
    "\n",
    "importlib.reload(utils)\n",
    "importlib.reload(utils.data_utils)\n",
    "from utils.data_utils import triples_to_embeddings"
   ]
  },
  {
   "cell_type": "code",
   "execution_count": 378,
   "metadata": {},
   "outputs": [
    {
     "name": "stderr",
     "output_type": "stream",
     "text": [
      " 26%|██▌       | 21255/82326 [00:45<02:20, 435.01it/s]"
     ]
    }
   ],
   "source": [
    "training_triples = triples_to_embeddings(\n",
    "    training_dataset_copy[triple_columns],\n",
    "    url_to_doctext_mapping,\n",
    "    sp,\n",
    "    w2v_model,\n",
    "    embedding_size=EMBEDDING_SIZE,\n",
    ")"
   ]
  },
  {
   "cell_type": "code",
   "execution_count": 285,
   "metadata": {},
   "outputs": [
    {
     "name": "stderr",
     "output_type": "stream",
     "text": [
      "100%|██████████| 9650/9650 [00:21<00:00, 450.77it/s]\n"
     ]
    }
   ],
   "source": [
    "testing_triples = triples_to_embeddings(\n",
    "    test_dataset_copy[triple_columns],\n",
    "    url_to_doctext_mapping,\n",
    "    sp,\n",
    "    w2v_model,\n",
    "    embedding_size=EMBEDDING_SIZE,\n",
    ")"
   ]
  },
  {
   "cell_type": "code",
   "execution_count": null,
   "metadata": {},
   "outputs": [],
   "source": []
  },
  {
   "cell_type": "code",
   "execution_count": 286,
   "metadata": {},
   "outputs": [
    {
     "name": "stderr",
     "output_type": "stream",
     "text": [
      "100%|██████████| 10047/10047 [00:23<00:00, 424.82it/s]\n"
     ]
    }
   ],
   "source": [
    "validation_triples = triples_to_embeddings(\n",
    "    validate_dataset_copy[triple_columns],\n",
    "    url_to_doctext_mapping,\n",
    "    sp,\n",
    "    w2v_model,\n",
    "    embedding_size=EMBEDDING_SIZE,\n",
    ")"
   ]
  },
  {
   "cell_type": "code",
   "execution_count": 291,
   "metadata": {},
   "outputs": [
    {
     "data": {
      "text/plain": [
       "[(55966,\n",
       "  array([-2.1337132 ,  0.84064513,  0.850455  ,  0.07822343,  0.49461168,\n",
       "         -0.21640351, -0.15194969, -0.71110517,  0.34412065, -1.5072731 ,\n",
       "         -0.9706612 , -0.0161262 ,  2.809772  ,  1.0979289 , -0.8815194 ,\n",
       "         -0.4938795 , -1.4507179 , -0.3244747 , -1.2726836 ,  0.3466394 ,\n",
       "          1.8815925 ,  2.5044932 , -0.66266185,  0.7998357 , -0.02810423,\n",
       "         -0.15230922, -3.0367901 , -1.2586932 ,  1.8494408 , -0.00574902,\n",
       "         -0.73826456,  1.8830578 , -1.4142417 ,  0.17999592,  1.2118864 ,\n",
       "          2.014254  , -2.0892997 , -0.47383612,  0.973999  ,  0.3915617 ,\n",
       "         -0.09133792, -0.66346806,  0.349106  ,  0.15383756, -1.0399258 ,\n",
       "         -2.2609715 ,  1.2259423 , -1.7501469 , -1.8145696 ,  2.6699157 ,\n",
       "         -0.49966836, -0.5354726 ,  1.6364126 , -0.7197745 ,  0.20664302,\n",
       "          0.7863251 , -1.4608712 ,  0.75478077, -1.1111755 , -0.66095424,\n",
       "         -0.14250354,  0.8046602 , -2.7221677 ,  0.9697246 ,  1.3395002 ,\n",
       "          0.43308544,  1.7812467 ,  1.3057139 , -1.3178027 , -0.82279414,\n",
       "          2.1536758 , -0.19934136, -0.47151643, -0.80461764, -0.8684861 ,\n",
       "         -0.7450658 , -1.6701303 ,  0.44746166,  1.4579108 , -3.0709603 ,\n",
       "          2.672788  ,  1.5812173 , -0.32965088, -0.4073179 ,  0.5946699 ,\n",
       "          1.8277816 ,  0.14760897,  0.42870077, -1.1075583 , -1.0686686 ,\n",
       "         -0.30879164,  1.4502354 ,  0.76959974,  1.6186774 ,  1.079163  ,\n",
       "          1.0918709 ,  0.28991765,  0.52179635,  2.3121393 ,  1.7790765 ,\n",
       "         -1.0892245 , -0.11658765,  0.6138456 ,  1.2216232 , -0.5511311 ,\n",
       "         -0.7077223 ,  1.3935504 ,  0.74471915, -3.3446007 , -0.48056656,\n",
       "         -0.897598  , -1.1721699 ,  1.3521397 ,  0.62201977, -2.093302  ,\n",
       "          1.4122125 ,  0.09187582,  0.44452175, -0.6431051 , -0.43727672,\n",
       "          2.8654718 ,  0.37371224,  1.8107303 ,  0.47669706, -1.3508995 ,\n",
       "         -2.4537344 , -1.2218037 ,  1.4578774 ], dtype=float32),\n",
       "  [array([ 0.09596796, -0.3416068 , -0.04951156,  0.65778255,  0.26050192,\n",
       "          -0.10201998, -0.09564336,  0.4742809 ,  0.5144317 , -0.42059717,\n",
       "          -1.2512914 , -0.73436373,  0.42137304,  0.7097357 , -0.49494842,\n",
       "          -0.22841263, -0.2140646 ,  0.19629191,  0.39822182,  0.7138898 ,\n",
       "          -0.45421803,  0.10154032, -0.4512694 , -0.10924861, -0.6647609 ,\n",
       "          -0.27340367, -0.22935277, -0.45578748,  0.74662894,  0.30183583,\n",
       "          -0.17882955, -0.19971792, -0.15760373, -0.12087123, -0.14072159,\n",
       "           0.9645996 , -0.6969198 , -0.35309193,  0.06106733, -0.3167572 ,\n",
       "           0.89360845, -0.14869113, -0.12200533,  0.2386677 , -0.13760062,\n",
       "          -0.6777165 ,  0.05350543, -0.51377004, -0.5205111 ,  0.98003775,\n",
       "          -0.20996867,  0.10624164,  0.33618695, -0.10018754,  0.22103867,\n",
       "          -0.04716489, -0.4469316 , -0.1207095 ,  0.41955984,  0.37400267,\n",
       "           0.12833112, -0.23756409, -0.73874694,  0.16819394,  0.07407353,\n",
       "           0.2444719 ,  0.24686307,  0.1773279 , -0.14873502, -0.01170603,\n",
       "          -0.47814557, -0.64631456, -0.0646033 , -0.20720485, -0.33324996,\n",
       "           0.16180335, -1.699054  , -0.4396248 ,  0.38888174,  0.23421796,\n",
       "           0.69332993, -0.45274693, -0.7706835 , -0.43131897, -0.03919118,\n",
       "           0.9514154 ,  0.5474578 , -0.3489427 ,  0.30939123, -0.48200142,\n",
       "           0.18545246,  0.35539833, -0.26478708,  0.08770671,  1.0616025 ,\n",
       "           0.4121137 , -0.25659811, -0.6163114 ,  0.7270239 ,  0.86337394,\n",
       "          -0.32228786, -0.6358426 ,  0.2415065 ,  0.8803924 , -0.30311215,\n",
       "          -0.1277005 ,  0.3255834 ,  0.8142554 , -1.098034  , -0.54043293,\n",
       "          -0.31516075,  0.0811834 ,  0.26491654, -0.31729367, -0.2434947 ,\n",
       "           0.48642048, -0.380395  ,  0.6926557 , -0.0687609 , -0.22185886,\n",
       "           0.02339051, -0.28695124,  0.2841979 ,  0.09687458, -0.40251684,\n",
       "          -0.24433435, -0.79607356,  0.26269758], dtype=float32),\n",
       "   array([ 0.21015972, -0.6018804 , -0.50578916,  0.326829  ,  0.28820777,\n",
       "          -0.3824872 ,  0.29335344,  0.29226828,  0.08171842, -0.3329588 ,\n",
       "          -0.72919977, -0.30206364,  0.59774303,  0.4383809 , -0.8864216 ,\n",
       "          -0.6512146 , -0.28941864, -0.46113253,  0.6508868 ,  0.35478982,\n",
       "          -0.1195164 , -0.24060988, -0.52575994,  0.3826523 , -0.5542873 ,\n",
       "           0.03106334,  0.08996901, -0.9594398 ,  0.877849  ,  0.41045675,\n",
       "           0.29066387, -0.5306073 , -0.4963268 , -0.25547057, -0.11882304,\n",
       "           0.6186963 , -0.21922219, -0.2597145 , -0.0642188 , -0.02367447,\n",
       "           0.73374134, -0.35730103,  0.2422871 ,  0.4345666 , -0.20724574,\n",
       "          -0.7722906 , -0.3558489 , -0.2937131 , -0.72834146,  0.4153706 ,\n",
       "          -0.5428692 ,  0.17624034,  0.37369114,  0.3689161 ,  0.13608588,\n",
       "           0.6063523 , -0.43575913, -0.03862845,  1.0212289 ,  0.44478446,\n",
       "           0.15880577, -0.15397795, -0.7211313 , -0.15307496,  0.22277151,\n",
       "          -0.02992448,  0.4147294 , -0.3844306 , -0.46351612, -0.02846843,\n",
       "          -0.96759546, -0.02543222, -0.2168779 , -0.41141564,  0.5601327 ,\n",
       "          -0.20175283, -0.53779685, -0.4546237 ,  0.31408122,  1.1865996 ,\n",
       "           0.3878156 , -0.38411674, -0.5003524 , -1.0443779 , -0.01983033,\n",
       "           0.9218794 ,  0.37301877, -0.21634932,  0.3145826 , -0.3670886 ,\n",
       "           0.43367225,  0.1183856 , -0.6885497 , -0.2626434 ,  1.6932861 ,\n",
       "           0.41590497,  0.23672187, -0.8657197 ,  0.0878166 ,  0.94985557,\n",
       "          -0.63274   , -0.69394714, -0.1102708 ,  0.15751316, -0.09408449,\n",
       "           0.4646393 ,  0.32345957,  0.8715995 , -0.28415847, -0.40813664,\n",
       "           0.0521003 ,  0.5836545 , -0.1706437 , -0.36565185,  0.2985243 ,\n",
       "          -0.01085002, -0.07020967,  0.81155574,  0.46998972,  0.27506244,\n",
       "          -0.39798403, -0.67895484, -0.11932772,  0.5951072 ,  0.05126061,\n",
       "           0.23446819, -0.19163482,  0.29182005], dtype=float32),\n",
       "   array([-0.6728604 ,  0.45553142, -0.82010615, -0.1449548 ,  0.59770983,\n",
       "          -0.22768137,  0.07077648, -0.12054245,  0.71507657, -1.0847887 ,\n",
       "          -1.2421844 , -0.62262416,  0.62193114,  1.1286436 , -0.28415632,\n",
       "          -0.42033496, -1.050772  ,  1.0735888 , -0.0763288 ,  0.79123   ,\n",
       "          -0.31847012,  0.8273077 , -0.36031315,  0.1428989 , -0.6550979 ,\n",
       "           0.1851737 , -1.2512801 ,  0.00403365,  0.8402927 ,  0.82634306,\n",
       "           0.34804642,  0.36320248, -0.7963996 , -0.3933931 ,  0.42255878,\n",
       "           1.7557862 , -1.3130623 ,  0.26173127,  0.6971321 ,  0.23483945,\n",
       "           0.08168373, -0.3686863 , -0.02694376, -0.5668446 ,  0.19829851,\n",
       "          -0.47124413,  0.8515737 , -0.8517902 , -0.61134386,  1.548915  ,\n",
       "          -0.8777249 ,  0.17397425,  0.82272494,  0.2782793 , -0.7073241 ,\n",
       "          -0.12448512, -0.87696034,  0.5384519 , -0.73766035,  0.28881642,\n",
       "          -0.22173205, -0.6759597 , -0.6499783 ,  0.7467604 ,  0.03721733,\n",
       "           0.46582666,  0.40867624,  0.12568353, -0.29778302, -0.44058263,\n",
       "           0.5583972 , -1.0837766 ,  0.02092334, -0.6858341 , -0.8967704 ,\n",
       "           0.17478426, -1.5140064 , -0.692227  ,  1.2235371 , -0.561843  ,\n",
       "           0.5029164 ,  0.37641704,  0.20286077, -0.3489157 , -0.07290971,\n",
       "           1.491475  , -0.23465444, -0.10438225, -0.0194399 , -0.72027093,\n",
       "           0.07768549,  0.9211523 ,  0.14484707,  0.40538466,  0.9009353 ,\n",
       "           0.90708494, -1.109348  , -0.8185131 ,  1.526578  ,  0.56031245,\n",
       "           0.64573616, -0.7418026 ,  0.22123493,  1.1776223 , -0.7173097 ,\n",
       "          -1.2743287 , -0.11589476,  0.9722503 , -2.1307235 , -1.3102156 ,\n",
       "          -0.3993374 , -0.83214176,  0.7409278 , -0.33627486, -1.1093246 ,\n",
       "           1.1579632 , -1.40118   ,  0.20525195, -0.25848967, -0.79430485,\n",
       "          -0.35772845, -0.1606305 ,  0.69575083,  0.406748  , -0.4754088 ,\n",
       "          -1.2883847 , -0.94249046,  0.6328434 ], dtype=float32),\n",
       "   array([-0.26865828,  0.00474604, -0.4326965 , -0.5429581 ,  0.19689558,\n",
       "          -0.6558878 ,  0.30682102,  0.2844164 ,  0.11693358, -0.00434606,\n",
       "          -0.9993617 , -0.32496634,  0.2992607 ,  0.4298651 , -0.46785438,\n",
       "          -0.41500106, -0.1306561 ,  0.87731975,  0.5596534 ,  0.54724437,\n",
       "           0.18496461,  0.33763188, -0.02027803, -0.18872076, -0.7410999 ,\n",
       "           0.42079228, -0.3980077 , -0.47851524,  0.8949049 ,  0.31859556,\n",
       "           0.17394039,  0.27987492, -0.65148515,  0.10965125, -0.19973268,\n",
       "           0.7481989 , -0.6224155 , -0.08564602,  0.36315712,  0.06013712,\n",
       "           0.12717316, -0.5048947 ,  0.01475434,  0.08334379, -0.05831308,\n",
       "           0.07996645,  0.34072024, -0.5372781 , -0.4597918 ,  1.0721112 ,\n",
       "          -0.46176365,  0.2709296 ,  0.52513945, -0.23383008, -0.30881053,\n",
       "           0.46528935, -0.7228415 ,  0.253525  ,  0.12317377, -0.0756641 ,\n",
       "           0.0336426 , -0.6209691 , -0.5423811 ,  0.25082272,  0.24132235,\n",
       "           0.20148192,  0.30697462, -0.07729694, -0.3433597 , -0.22160321,\n",
       "          -0.22935666, -0.76201326, -0.32853568, -0.7585815 , -0.64981335,\n",
       "           0.21421525, -1.257887  , -0.35861403,  1.0979271 ,  0.4503889 ,\n",
       "           0.3601369 ,  0.31544477,  0.0142852 ,  0.12371207, -0.03744148,\n",
       "           0.38434285,  0.02025186, -0.20078187, -0.15395536, -0.42946094,\n",
       "          -0.08392064,  0.53744495,  0.51978475, -0.01588821,  0.54582566,\n",
       "           0.7342396 , -0.32156214, -0.02068096,  1.0654904 ,  0.21795562,\n",
       "          -0.10563688, -0.3770983 , -0.23355147,  0.8002012 , -0.76615417,\n",
       "          -0.7847095 ,  0.5247855 ,  0.9126109 , -1.4900664 , -0.48082712,\n",
       "          -0.11603332, -0.25931397,  0.13636224,  0.04986981, -0.39186454,\n",
       "           0.80067116, -0.48750794,  0.73496956, -0.25680456, -0.25442874,\n",
       "           0.2347983 ,  0.17531171,  0.7401445 ,  0.37358752, -0.5233785 ,\n",
       "          -0.7368768 , -0.7563976 ,  0.3276982 ], dtype=float32),\n",
       "   array([-0.62285477, -0.13405378, -0.619504  ,  0.3220904 ,  0.5942063 ,\n",
       "          -0.5300315 ,  0.2830587 ,  0.13590634,  0.41966912, -0.48635444,\n",
       "          -0.78036636, -0.82191795,  0.15511172,  0.5733052 , -0.46776685,\n",
       "          -0.0595382 , -0.57154685,  0.52179545,  0.62089396,  0.33167875,\n",
       "          -0.2901548 ,  0.25734434, -0.36291257, -0.14904019, -0.4703219 ,\n",
       "           0.58176225,  0.09763486, -0.449467  ,  0.5726272 ,  0.88706464,\n",
       "           0.28967223, -0.20975395, -0.50785005, -0.5613595 , -0.38159004,\n",
       "           1.035754  , -1.1442527 , -0.17363693,  0.02378546,  0.0581471 ,\n",
       "           0.6861268 , -0.26872927,  0.001925  ,  0.08508489,  0.31245512,\n",
       "          -0.43279958,  0.15260632, -0.35279047, -0.37184748,  0.6089387 ,\n",
       "          -0.41957217,  0.24953671,  0.71679544,  0.34054404, -0.50233716,\n",
       "          -0.04772835, -0.8829648 ,  0.11836874,  0.24288799,  0.55355793,\n",
       "           0.139715  ,  0.01825918, -0.85175407,  0.23657268,  0.4614056 ,\n",
       "          -0.12162521,  0.41629407, -0.18886413, -0.07570855, -0.86474353,\n",
       "          -0.40424174, -0.82865024, -0.16586599, -0.6263748 , -0.38039437,\n",
       "          -0.2327722 , -0.76315534, -0.423948  ,  0.26138216,  0.18443617,\n",
       "           0.20749183,  0.18322478, -0.12697728, -1.3867664 ,  0.24588543,\n",
       "           0.91382504,  0.36929384, -0.48757425,  0.27676183, -0.22568643,\n",
       "           0.28249314,  0.34542516, -0.49419832, -0.20483576,  1.1340314 ,\n",
       "           0.691223  , -0.4050132 , -1.0626595 ,  0.57456404,  0.52367574,\n",
       "          -0.10584252, -0.63820237,  0.03522398,  0.78959936, -0.6814451 ,\n",
       "          -0.14413725,  0.29322106,  0.94224143, -1.0326132 , -0.8511161 ,\n",
       "          -0.06150154, -0.14531925,  0.05580023, -0.510743  , -0.5024463 ,\n",
       "           0.786157  , -0.5485376 ,  0.5334547 ,  0.18499579,  0.12448645,\n",
       "          -0.68736905, -0.43123016, -0.07947688,  0.62988985, -0.11930263,\n",
       "          -0.43309203, -0.33860615,  0.3331981 ], dtype=float32),\n",
       "   array([ 2.9303202e-01, -8.9840323e-01, -2.6253682e-01,  6.8660593e-01,\n",
       "           1.8440822e-01,  4.8559096e-01,  1.8658721e-01,  1.6296713e-01,\n",
       "           5.0911981e-01, -8.4960955e-01, -2.6773170e-01, -1.1836215e+00,\n",
       "           1.3469599e-02,  2.8182495e-01, -7.9447418e-01, -4.2367060e-02,\n",
       "          -2.4422623e-01, -4.8091725e-01,  2.9352683e-01,  3.6409765e-01,\n",
       "          -2.4406250e-01,  1.4599663e-01, -5.8189267e-01, -3.1228012e-01,\n",
       "          -4.3779123e-01,  6.0560249e-02,  5.4778460e-02, -7.1535730e-01,\n",
       "           7.0343643e-01,  3.9598069e-01,  1.5028729e-01, -4.8906398e-01,\n",
       "           2.1058021e-01, -7.9718685e-01, -7.4383533e-01,  7.1961761e-01,\n",
       "          -5.2170467e-01, -1.4706272e-01, -1.8031658e-01, -1.6430548e-01,\n",
       "           8.5209066e-01, -1.2877914e-01,  1.0680778e-01,  1.8926218e-01,\n",
       "           1.7752670e-01, -1.1197302e+00, -1.4817207e-01, -1.6209389e-01,\n",
       "          -5.6012213e-01,  4.1180784e-01, -6.4854085e-01,  2.0033634e-01,\n",
       "           7.3234272e-01,  3.3756515e-01,  7.5945936e-02, -2.8476101e-01,\n",
       "          -1.6869174e-01, -3.3305475e-01,  8.5204732e-01,  8.1239736e-01,\n",
       "          -8.1240997e-02,  3.8316417e-01, -4.1813591e-01, -3.1654319e-01,\n",
       "           2.3066474e-01, -2.3507302e-01,  3.3062094e-01, -2.9366383e-01,\n",
       "          -6.1449754e-01, -3.5225275e-01, -7.8649336e-01, -8.9800352e-01,\n",
       "          -7.2705828e-02, -3.5641780e-01,  1.3337479e-02,  2.6537019e-01,\n",
       "          -9.3009526e-01, -7.3155665e-01, -1.6655885e-01,  9.5235145e-01,\n",
       "           5.1037437e-01, -4.1951090e-01, -1.0577571e+00, -1.5671463e+00,\n",
       "           1.5835670e-01,  7.4572098e-01,  1.5415964e-01, -9.8015927e-02,\n",
       "           7.8427517e-01, -4.6813786e-01,  5.8411634e-01, -2.5318253e-01,\n",
       "          -1.0884249e+00, -1.7959237e-01,  1.6568078e+00, -5.1109940e-03,\n",
       "          -1.0250751e-01, -9.7040451e-01, -1.5305990e-03,  8.4883255e-01,\n",
       "          -6.5618533e-01, -4.7419676e-01, -2.9987699e-01,  3.5457653e-01,\n",
       "           2.8811306e-01,  6.2763327e-01,  3.8807285e-01,  8.8137740e-01,\n",
       "          -3.0649245e-01, -2.0586625e-01,  1.9701350e-02,  3.5771826e-01,\n",
       "          -2.2780469e-01, -9.5390147e-01,  5.2105010e-01,  1.2553121e-01,\n",
       "          -7.2511429e-01,  5.6767100e-01,  4.8615181e-01,  3.9550707e-01,\n",
       "          -5.4060560e-01, -1.3888973e-01, -1.1623145e-01,  4.3742630e-01,\n",
       "           4.5041913e-01, -5.9788782e-02, -3.8245437e-01, -9.5078923e-02],\n",
       "         dtype=float32),\n",
       "   array([-0.00837409,  0.25769225, -0.15700531,  0.32134157, -0.38668665,\n",
       "           0.24739872,  0.08157835, -0.21837163,  0.8518286 , -0.67213756,\n",
       "          -1.2913027 , -1.2803394 ,  0.28281486,  0.41637254,  0.2958916 ,\n",
       "          -0.55727684,  0.1918108 ,  0.66791433,  0.6040629 ,  0.40867403,\n",
       "          -0.024121  ,  1.1805667 , -0.42667633,  0.5256939 , -0.7815966 ,\n",
       "          -0.1825389 , -0.23459263,  0.27428675,  0.5760643 ,  0.20007414,\n",
       "           0.14674701, -0.26878104, -0.04460382, -0.01396336,  0.45100173,\n",
       "           1.5599772 , -1.0710783 ,  0.6327713 ,  0.29045293, -0.05289512,\n",
       "           0.34483358,  0.17352366, -0.520619  ,  0.36595356,  0.44828385,\n",
       "          -0.53563976,  1.0918226 , -1.1517226 , -0.21742585,  1.251153  ,\n",
       "          -0.28805283,  0.6010846 ,  0.7861832 , -0.5037218 , -0.04229395,\n",
       "          -0.13078842,  0.29932415,  0.4847271 , -0.10274895,  0.09043083,\n",
       "          -0.0611951 , -0.00351124,  0.3777898 ,  0.42964712,  0.64120674,\n",
       "          -0.29230714,  0.64269054,  0.33367953,  0.14289665, -0.5603974 ,\n",
       "          -0.10660378, -0.44422415, -0.94904286, -0.45560637, -0.59569675,\n",
       "           0.49888098, -1.1778471 , -0.9847583 ,  0.5615503 , -0.7625122 ,\n",
       "           0.92720306, -0.17330821, -0.61938876, -0.06495727, -0.46576852,\n",
       "           0.90474653,  0.15633045, -0.07318822, -0.26836687, -0.24482751,\n",
       "          -0.20577072, -0.4518338 ,  0.46355727,  0.72673637,  1.3222054 ,\n",
       "          -0.40955254, -0.05540399, -0.66785985,  0.58402646,  0.8454802 ,\n",
       "           0.22444458, -0.40622717,  0.00651516,  0.43764275, -1.250203  ,\n",
       "          -0.5754132 ,  0.1553859 ,  0.9763343 , -1.8968753 , -0.77915025,\n",
       "          -0.61630183, -0.03659988,  0.2895766 , -1.031588  , -0.0692363 ,\n",
       "           0.6361143 , -1.0259151 ,  0.2035335 , -0.08185148, -0.21284084,\n",
       "           0.09176917,  0.09043632,  0.14281651, -0.4861206 , -0.89957273,\n",
       "          -0.34633306, -0.8008621 ,  1.0198041 ], dtype=float32)],\n",
       "  [array([-0.2512269 ,  0.24032582, -0.12593591,  0.34413335,  0.2321065 ,\n",
       "          -0.65188116, -0.0649313 ,  0.06746885,  0.26633438, -1.0636538 ,\n",
       "          -0.6425031 , -0.1504979 ,  0.2621065 , -0.41351983, -0.3776354 ,\n",
       "          -0.53099024,  0.30571067,  0.89115345,  1.331553  ,  0.06879524,\n",
       "           0.10825006,  0.72507054, -0.22783835, -0.5346296 , -0.25077245,\n",
       "           0.26356953, -0.4799304 ,  0.45145676,  0.33227986,  0.1467544 ,\n",
       "           0.736397  , -0.6030536 , -0.02854076, -1.1230284 , -0.05056909,\n",
       "           0.80444133,  0.4875981 ,  1.0643612 ,  0.19067827,  0.1260956 ,\n",
       "          -0.2560549 , -0.90134186, -0.3282887 , -0.02818882,  0.45089233,\n",
       "          -0.70695907, -0.05697842,  0.33242524, -0.07005951, -0.17532739,\n",
       "           0.22941817, -0.16759093, -0.50733227, -0.8682798 , -0.30056575,\n",
       "           0.5527986 , -0.8731696 ,  1.0254151 , -0.18976985,  0.4703073 ,\n",
       "           0.6840979 , -0.14580067, -0.33744237, -0.3317638 , -0.14742342,\n",
       "           0.1296777 ,  0.41869855, -0.73455644,  0.16644175, -0.45894003,\n",
       "          -0.36464348, -0.8979127 ,  0.36630657,  0.6484771 , -1.1838782 ,\n",
       "          -0.10756027,  0.07916698, -0.9547472 ,  0.57219577,  0.4781562 ,\n",
       "          -0.22124086,  0.3795709 , -0.38730568,  0.18347096,  0.5656508 ,\n",
       "           0.19797507,  0.0156747 , -0.13516043,  0.80299544,  0.00594971,\n",
       "           0.14930479,  0.52030927,  0.20807822,  0.08634554,  0.25271618,\n",
       "           0.71896374,  1.0715148 , -0.6422991 ,  0.40918133,  0.35263342,\n",
       "          -0.02860472, -0.7648314 , -0.40528938,  1.9256284 , -1.0620569 ,\n",
       "          -0.8393463 ,  0.17737828,  0.92375374, -1.127598  , -1.1431096 ,\n",
       "           0.891636  , -0.25026366,  0.684956  , -0.49127838, -0.51048076,\n",
       "           0.6759683 , -0.14499718,  1.1326243 , -0.2279586 , -0.3358431 ,\n",
       "          -0.28640825,  0.0131861 ,  0.3679806 , -0.5413173 , -0.42483512,\n",
       "          -0.25689572,  0.34515008, -0.06066041], dtype=float32),\n",
       "   array([ 0.33034375, -0.76667076,  0.0867724 ,  1.4285055 ,  0.05326234,\n",
       "           0.38361856, -0.21995687,  0.0373802 ,  0.7737354 ,  0.0570083 ,\n",
       "          -0.1779797 , -0.5867383 , -0.2511181 , -0.05798317, -0.6086653 ,\n",
       "          -0.13884877,  0.34649366, -0.5462134 ,  0.44685128,  0.01274073,\n",
       "           0.61984795, -0.34648585,  0.10006879, -0.44779298, -0.641531  ,\n",
       "          -0.19079421,  0.89778703, -0.5970844 ,  0.46926638,  0.06017531,\n",
       "           0.52645683, -0.37062457, -0.03472129, -0.39321664, -1.0232486 ,\n",
       "          -0.4762835 ,  0.44836944,  0.18584166, -0.580957  , -0.5354285 ,\n",
       "           0.37876475, -0.5010286 ,  0.05826334,  0.8477679 , -0.4548292 ,\n",
       "          -0.01597633, -0.62428504,  0.42432737,  0.3458029 , -0.30437472,\n",
       "          -0.5903982 ,  0.32044044,  0.05546056, -0.19785376, -0.04955555,\n",
       "          -0.05762202, -0.03884027, -0.683224  ,  1.3864328 ,  0.66335535,\n",
       "          -0.5848655 ,  0.36065534,  0.08367056,  0.2956057 ,  0.4033131 ,\n",
       "          -1.1710792 , -0.15370648, -0.29146877, -0.2121235 , -0.14764144,\n",
       "          -1.0852007 ,  0.36948147, -0.26260638, -0.58037865,  0.01008929,\n",
       "          -0.38419884,  0.09856404,  0.03600942, -0.7977837 ,  1.5016804 ,\n",
       "           0.18234192, -0.45247376, -0.8647299 , -0.7438931 ,  0.5237616 ,\n",
       "           0.3840491 ,  0.22410221,  0.13261232,  0.4297101 ,  0.25790116,\n",
       "           0.79248846,  0.01651033, -0.4080249 , -0.8274776 ,  0.90392786,\n",
       "          -0.08011574,  0.5068383 , -0.74219114, -0.8352502 ,  0.9536298 ,\n",
       "          -0.10994647, -0.334716  ,  0.3028608 , -0.6876432 ,  0.19103466,\n",
       "           1.2011064 ,  0.49018908,  0.71815586,  0.29424676, -0.42051545,\n",
       "          -0.10511361,  0.558109  , -0.35521555, -0.6082448 ,  0.80444866,\n",
       "          -0.30390415,  0.1373316 , -0.61634547,  0.40516183,  0.24113587,\n",
       "          -0.6854121 , -0.4624581 , -0.7916779 ,  0.37700886,  0.03289482,\n",
       "           1.1369557 , -0.03579934, -0.39384016], dtype=float32),\n",
       "   array([ 0.4991902 , -1.5744971 ,  0.13865732,  0.17751746, -0.46853822,\n",
       "          -0.5880269 , -0.66346616,  0.04127546,  0.42333624,  0.5935388 ,\n",
       "           0.19428346,  0.35228753, -0.6164444 , -0.72005177, -0.603449  ,\n",
       "          -0.62636536,  0.4958032 , -0.7566281 ,  0.39262584,  0.44328156,\n",
       "           0.75660783, -0.8964162 , -0.36662284,  0.28968573, -0.6670502 ,\n",
       "          -0.00728882,  0.46899515, -0.00543428,  0.5986799 ,  0.04335469,\n",
       "           0.06349062,  0.00235583,  0.01718856, -0.05773392, -0.18679142,\n",
       "          -0.7115065 ,  0.33528578, -1.0806524 , -0.15841751, -0.76906145,\n",
       "           0.57673645,  0.41198906,  0.4808766 ,  0.45488152, -0.22160651,\n",
       "          -0.21624307, -0.44114938, -0.13730691,  0.9611975 ,  0.14912024,\n",
       "           0.4469695 ,  0.73943675,  0.50979996, -0.30698818, -0.22619459,\n",
       "          -0.30540824,  0.5137076 , -0.3787834 ,  0.59252805, -0.36479086,\n",
       "          -0.31557378,  0.04181205,  0.3047732 ,  0.4355059 ,  0.35911444,\n",
       "           0.03276988,  0.12636764, -0.126328  ,  0.3226172 ,  0.04746056,\n",
       "          -0.43807206, -0.26997578, -0.2251914 , -0.3989239 , -0.60570234,\n",
       "          -0.40061575, -0.6487261 ,  0.0391144 , -0.8837115 ,  0.39672485,\n",
       "           0.6941991 , -0.2907248 , -0.52408314, -0.6320047 , -0.03461728,\n",
       "           0.24511185,  0.14463298, -0.19390716, -0.91512376,  0.50563246,\n",
       "           0.20334646, -0.25630748, -0.3197486 , -0.6245238 ,  0.69435453,\n",
       "          -0.03378241, -0.05154936, -0.67057145, -0.28498104,  0.9567052 ,\n",
       "          -0.0094869 , -0.38378882, -0.1576337 , -0.7566895 ,  0.42106858,\n",
       "           0.40062493,  0.9651866 ,  0.72830796,  0.04571572,  0.7488627 ,\n",
       "          -0.06483629,  0.62205964, -0.32820222,  0.09032248,  0.20961718,\n",
       "          -0.8959464 , -0.39423463, -0.08057781, -0.0763406 ,  0.5508091 ,\n",
       "          -0.35985252, -0.43151858, -0.38645497,  0.1923796 ,  0.5879916 ,\n",
       "           0.28322747, -0.35451958, -0.1363647 ], dtype=float32),\n",
       "   array([-1.1463189e-01, -6.6562122e-01,  4.8765013e-01,  6.2207574e-01,\n",
       "          -2.6294544e-01, -1.0584916e-01, -2.7406722e-01, -1.1310885e-01,\n",
       "           6.4613795e-01,  8.3112121e-02, -3.1621629e-01,  5.1084012e-02,\n",
       "          -2.9969755e-01,  1.2922782e-01, -7.5142664e-01, -2.8923819e-02,\n",
       "           6.7838776e-01, -7.8753996e-01,  9.2831779e-01,  2.9158980e-01,\n",
       "          -9.0362184e-02, -3.6333126e-01,  1.1759621e-01,  7.5523041e-02,\n",
       "          -1.7234792e+00,  4.3156397e-01,  4.9479657e-01, -4.5521343e-01,\n",
       "           4.0210027e-01, -3.1396297e-01,  2.0104204e-01, -5.9973335e-01,\n",
       "          -4.1739741e-01,  3.7302680e-02, -4.7722721e-01, -4.6524920e-02,\n",
       "           1.7862912e-01, -2.5754443e-01, -9.4307877e-02, -7.2947341e-01,\n",
       "           7.2386421e-02, -4.3203965e-01,  9.7854473e-02,  4.4082430e-01,\n",
       "          -8.6581695e-01, -6.8205637e-01, -1.6985135e+00, -3.9474377e-01,\n",
       "          -9.8513097e-02, -3.0064294e-01, -3.2282968e-03,  1.3306876e-01,\n",
       "           5.8303915e-02, -3.3591619e-01,  3.1487107e-01,  2.8845233e-01,\n",
       "          -3.0966479e-01, -1.9275489e-01,  1.0338641e+00,  3.6234942e-01,\n",
       "           3.0513218e-01, -1.3229303e-01,  9.2448127e-03,  1.3184917e-01,\n",
       "           6.8382096e-01, -5.2997226e-01,  1.4510773e-01, -3.3914897e-01,\n",
       "          -5.1213425e-01, -6.7406160e-01, -2.1627936e-01,  6.8283021e-01,\n",
       "           3.8115126e-01, -4.5469546e-01, -8.2376491e-06, -3.4090787e-01,\n",
       "           4.4073012e-01, -1.1497718e-01, -2.7285761e-01,  1.0386213e+00,\n",
       "           4.8112038e-01, -1.6934112e-01, -7.0420623e-01,  3.0574784e-02,\n",
       "           4.2172581e-01,  1.0001056e+00,  1.0419564e-01,  4.9126707e-03,\n",
       "           3.0044299e-01,  1.5035796e-01,  9.6616143e-01, -4.4987947e-01,\n",
       "          -6.4694005e-01, -4.0804428e-01,  9.1988707e-01,  1.1225079e-01,\n",
       "           2.0421731e-01, -7.8785264e-01, -4.7412679e-01,  7.4084747e-01,\n",
       "           7.4117951e-02, -4.1119799e-01,  4.0024152e-01, -2.0449142e-01,\n",
       "          -3.5653868e-01,  1.1689626e+00,  8.8817431e-03,  1.0113728e+00,\n",
       "           7.4073248e-02,  5.6326646e-02, -6.6636845e-02,  8.6592072e-01,\n",
       "          -4.0136907e-02,  2.9693720e-01,  8.6862332e-01, -1.7908649e-01,\n",
       "          -5.8176273e-01,  1.3721769e-02,  3.9625898e-01,  3.4167218e-01,\n",
       "          -1.6874908e-01, -4.0857738e-01, -6.5757781e-01,  7.8272980e-01,\n",
       "          -5.4098587e-02,  7.6431298e-01,  2.1613337e-02, -3.0828840e-01],\n",
       "         dtype=float32),\n",
       "   array([-2.8939211e-01,  3.2550442e-01,  7.3793018e-01, -6.8500096e-01,\n",
       "          -3.0212003e-01, -9.3520440e-02, -3.1792998e-01, -5.2251452e-01,\n",
       "           7.2758669e-01,  5.1238346e-01, -9.3943566e-01,  2.6898763e-01,\n",
       "           3.2683471e-01, -5.9594546e-02, -4.3258914e-01, -8.4375717e-02,\n",
       "           5.8848846e-01,  6.8065900e-01,  2.4682210e-01, -7.0783101e-02,\n",
       "          -2.8330323e-01, -2.0898262e-02, -3.3799201e-01, -6.4254564e-01,\n",
       "          -8.8957411e-01,  9.3722194e-02, -1.9222920e-01,  4.5486510e-01,\n",
       "          -2.8721729e-01,  3.3420855e-01, -1.9072786e-01, -2.1481954e-02,\n",
       "          -6.6952181e-01,  1.3600752e-01, -4.9856794e-01,  7.1388435e-01,\n",
       "           1.4287639e-01,  3.2035595e-01,  2.5161159e-01,  4.7943894e-02,\n",
       "          -4.1116062e-01, -4.4598588e-01, -4.8684525e-01,  5.1108819e-01,\n",
       "           2.2512017e-01,  4.5662773e-01,  3.5129678e-01, -4.6495619e-01,\n",
       "          -5.2384979e-01,  8.7164149e-02, -3.2600322e-01,  3.8475309e-02,\n",
       "          -3.1191483e-01, -8.2522082e-01, -1.3317089e+00,  4.4644034e-01,\n",
       "          -3.5659346e-01, -4.7001939e-02,  4.2018917e-01, -8.1460699e-02,\n",
       "          -5.3735424e-02, -3.0941013e-01,  1.3674280e-01, -1.4620973e-02,\n",
       "           2.1197817e-01, -4.5831484e-01, -1.7309660e-01, -4.0090047e-02,\n",
       "          -5.1623654e-01, -1.1882734e-01,  1.8229391e-01,  1.2234140e-01,\n",
       "          -3.1749085e-01, -4.1343206e-01, -7.5367117e-01, -4.8698232e-02,\n",
       "          -2.7509755e-01,  3.8213491e-01,  7.5983697e-01,  4.5047536e-01,\n",
       "           2.0756057e-01,  6.7413205e-01, -5.9099033e-02,  1.1129708e+00,\n",
       "           6.4100200e-01, -4.6530855e-01, -3.3067492e-01,  1.7859003e-01,\n",
       "          -2.7810663e-01,  4.0841478e-01,  2.7836946e-01,  1.3058761e-01,\n",
       "           6.6182470e-01, -3.0358940e-01, -1.7138202e-01,  4.4678101e-01,\n",
       "           1.1561414e-01, -7.0208363e-02,  6.2262052e-01,  5.6105340e-01,\n",
       "           1.1805858e-01,  1.4149219e-01,  3.5352394e-02,  2.8120396e-01,\n",
       "          -8.8144934e-01, -7.4408013e-01,  5.6013370e-01,  3.6227915e-01,\n",
       "          -8.6946124e-01, -5.7875162e-01, -1.2533672e-01,  1.4459613e-01,\n",
       "           2.5555521e-01,  2.6043016e-01, -7.2285756e-02,  8.3344150e-01,\n",
       "          -3.6942461e-01, -9.8583987e-04, -4.2919555e-01, -6.1968911e-01,\n",
       "           3.1722257e-01,  4.4527087e-01,  8.7494481e-01, -5.9662849e-01,\n",
       "          -1.0048441e+00, -1.8898395e-01, -1.0815772e-01, -1.2712424e-01],\n",
       "         dtype=float32),\n",
       "   array([-0.4045975 ,  0.8368503 , -0.32993436, -0.10169162,  0.08821099,\n",
       "          -0.16276255, -0.04518289, -0.13706575,  0.94314146, -0.32189918,\n",
       "          -1.240202  , -1.4958158 ,  0.5621913 , -0.6873361 ,  0.02718309,\n",
       "          -0.2542737 ,  1.0545574 ,  0.3404637 , -0.51827586,  0.8220967 ,\n",
       "           0.43779242,  0.6658833 , -0.15112552, -0.6784582 , -0.0556648 ,\n",
       "           0.02446119, -0.8878427 ,  1.9419903 , -0.519707  , -0.0649181 ,\n",
       "          -1.361057  , -0.9344312 ,  0.30517244,  0.13346961,  0.89512074,\n",
       "           0.98947144, -0.6755052 ,  0.06133216, -0.79819787,  0.96142226,\n",
       "          -0.37465096, -0.78833085, -0.8078085 ,  0.03274075,  0.8250759 ,\n",
       "          -0.67350507,  0.7497093 ,  0.15586069,  0.02629976,  1.1366646 ,\n",
       "          -0.17983016, -0.01368758, -1.0265969 , -0.27764043, -0.6339341 ,\n",
       "          -0.16964951, -0.15322654, -0.3125341 , -0.08629891,  0.64656085,\n",
       "          -0.21146616,  0.03913778,  0.18653937,  0.63148946, -0.44826812,\n",
       "          -0.92516917, -0.40333697, -0.46005988, -0.49820524, -0.07300963,\n",
       "          -0.6414796 , -1.0000833 , -0.05355357, -0.09780815, -0.6152007 ,\n",
       "           0.6768379 ,  0.0358008 , -0.14786613, -0.15660797, -0.18586709,\n",
       "          -0.9609939 , -0.04901568, -0.64720225,  0.03327087,  0.5562973 ,\n",
       "          -0.8520758 , -0.623928  , -0.23175503, -0.2521722 , -0.2772234 ,\n",
       "           0.06542061,  0.03937739, -0.54560965, -0.6193218 ,  0.31448892,\n",
       "           0.2167697 ,  0.11683842, -1.0108343 ,  0.14658996,  0.53829026,\n",
       "          -0.01566135, -0.6124822 , -0.22312786,  0.6409455 , -0.76866955,\n",
       "          -1.2819798 ,  0.646832  ,  0.5538233 , -0.9162758 , -1.3618661 ,\n",
       "           1.0127666 , -0.32193166, -0.1564496 , -0.71072555, -0.6525777 ,\n",
       "           0.9453451 , -0.4939502 ,  1.3721337 ,  0.43330023, -0.58207995,\n",
       "          -0.44317436,  0.33793065, -0.4799321 ,  0.10940811, -0.29492414,\n",
       "           0.19469468, -0.03611751, -0.22538893], dtype=float32),\n",
       "   array([-2.8268886e-01,  1.9780929e-01, -7.0849186e-01, -6.1329913e-01,\n",
       "          -8.5068470e-01, -7.3642343e-02,  1.9959450e-01, -1.3143535e-01,\n",
       "          -7.1700275e-02,  2.2117358e-01, -6.3048702e-01, -6.1048883e-01,\n",
       "           9.5539296e-01, -6.3484293e-01, -7.3130061e-03,  5.9171174e-02,\n",
       "           4.9543524e-01,  1.5690761e+00,  1.0018065e+00,  7.0018625e-01,\n",
       "          -3.3855277e-01,  9.9418509e-01, -1.7401928e-01, -2.5557798e-01,\n",
       "           2.8655952e-01,  1.5892467e-01, -8.5877591e-01,  3.4759149e-02,\n",
       "          -1.4095180e-01,  5.7607043e-01,  7.4292652e-02,  1.3606083e-01,\n",
       "          -8.9907855e-01, -4.4372359e-01,  1.5365943e-01,  1.6495496e+00,\n",
       "           4.4222096e-01,  1.1073008e+00,  7.7168012e-01, -4.5848787e-01,\n",
       "          -2.0588909e-03, -5.1698762e-01, -5.3187460e-01, -8.3642966e-01,\n",
       "           9.1469002e-01, -2.0165168e-01,  1.3875166e-01, -5.0362360e-01,\n",
       "          -5.9947152e-02,  6.1079186e-01, -3.5118712e-03,  6.1404043e-01,\n",
       "          -8.6910671e-01, -9.8451084e-01, -1.1452261e+00,  7.1169239e-01,\n",
       "          -1.1425533e+00,  1.3267004e+00, -6.4356953e-01,  2.6250371e-01,\n",
       "           8.3320117e-01,  4.0896186e-01,  1.1313377e-01, -1.8837115e-03,\n",
       "          -4.3002945e-01, -4.0398386e-01,  4.9917015e-01,  2.6952666e-01,\n",
       "           1.7229506e-01,  9.7671427e-02,  2.2346452e-01, -6.9569963e-01,\n",
       "           8.9909881e-02, -2.1553490e-01, -8.9544386e-01,  6.9620925e-01,\n",
       "          -1.8382607e-01,  3.4033057e-01,  9.7524709e-01, -5.1558536e-01,\n",
       "          -4.0208757e-01,  5.2025586e-01,  2.5141450e-02,  1.3543116e+00,\n",
       "           1.3473904e-02,  6.5160745e-01, -8.0330318e-01,  4.2248905e-01,\n",
       "           5.2737921e-01, -1.7330165e-01, -6.2169496e-02,  4.1288090e-01,\n",
       "           1.1196873e+00,  2.3466364e-01,  9.5246471e-03,  9.8445219e-01,\n",
       "           1.1065874e+00, -5.2083582e-01,  1.2486703e+00,  7.0852333e-01,\n",
       "           3.9588720e-01, -1.1926652e+00, -9.9605709e-01,  2.0107434e+00,\n",
       "          -1.0786128e+00, -7.2578734e-01,  2.2181316e-01,  7.1660966e-01,\n",
       "           1.9853160e-01, -5.0450242e-01,  3.5373025e-02, -3.7214759e-01,\n",
       "           1.0387137e+00, -4.4834274e-01, -7.4514937e-01,  1.1462446e+00,\n",
       "           3.3395621e-01,  1.4954847e+00, -1.0765368e+00,  2.0617023e-01,\n",
       "           2.3951113e-01, -9.7654068e-01,  7.5197333e-01, -6.2066400e-01,\n",
       "          -1.1388403e+00, -6.5288216e-01, -1.7038578e-01, -4.9430758e-01],\n",
       "         dtype=float32)])]"
      ]
     },
     "execution_count": 291,
     "metadata": {},
     "output_type": "execute_result"
    }
   ],
   "source": [
    "[tuple(i) for i in training_triples[0:1]]"
   ]
  },
  {
   "cell_type": "code",
   "execution_count": 293,
   "metadata": {},
   "outputs": [],
   "source": [
    "# Pickle these to use for training\n",
    "import pickle\n",
    "\n",
    "with open(\"training_triples.pkl\", \"wb\") as f:\n",
    "    pickle.dump([tuple(i) for i in training_triples], f)\n",
    "with open(\"testing_triples.pkl\", \"wb\") as f:\n",
    "    pickle.dump([tuple(i) for i in testing_triples], f)\n",
    "with open(\"validation_triples.pkl\", \"wb\") as f:\n",
    "    pickle.dump([tuple(i) for i in validation_triples], f)"
   ]
  },
  {
   "cell_type": "markdown",
   "metadata": {},
   "source": [
    "### Create Dataloaders"
   ]
  },
  {
   "cell_type": "code",
   "execution_count": 296,
   "metadata": {},
   "outputs": [],
   "source": [
    "# Create a torch dataset from the triples\n",
    "from torch.utils.data import Dataset, DataLoader"
   ]
  },
  {
   "cell_type": "code",
   "execution_count": 332,
   "metadata": {},
   "outputs": [
    {
     "data": {
      "text/plain": [
       "82326"
      ]
     },
     "execution_count": 332,
     "metadata": {},
     "output_type": "execute_result"
    }
   ],
   "source": [
    "len(training_triples)"
   ]
  },
  {
   "cell_type": "code",
   "execution_count": 338,
   "metadata": {},
   "outputs": [
    {
     "data": {
      "text/plain": [
       "(82326, 9)"
      ]
     },
     "execution_count": 338,
     "metadata": {},
     "output_type": "execute_result"
    }
   ],
   "source": [
    "training_dataset_copy.shape"
   ]
  },
  {
   "cell_type": "code",
   "execution_count": 350,
   "metadata": {},
   "outputs": [
    {
     "data": {
      "text/plain": [
       "query_id\n",
       "62367    7\n",
       "10515    7\n",
       "16294    7\n",
       "5458     6\n",
       "38694    6\n",
       "        ..\n",
       "26998    1\n",
       "13036    1\n",
       "37958    1\n",
       "52395    1\n",
       "36237    1\n",
       "Name: count, Length: 56417, dtype: int64"
      ]
     },
     "execution_count": 350,
     "metadata": {},
     "output_type": "execute_result"
    }
   ],
   "source": [
    "# training_dataset_copy[(training_dataset_copy.query_id == 55966)]\n",
    "np.all(train.query_id.value_counts().values == 1)\n",
    "training_dataset_copy.query_id.value_counts()"
   ]
  },
  {
   "cell_type": "code",
   "execution_count": 337,
   "metadata": {},
   "outputs": [
    {
     "name": "stdout",
     "output_type": "stream",
     "text": [
      "0th triple with query_id: 55966\n",
      "\t#Relevant Docs = 7, Irrelevant Docs = 7\n",
      "\tAll are of shaped: (128,)? True\n",
      "Training ID: 55966\n",
      "\tThe query text is ['is there a limit to roth ira contributions'\n",
      " 'is there a limit to roth ira contributions'\n",
      " 'is there a limit to roth ira contributions']\n",
      "1th triple with query_id: 33374\n",
      "\t#Relevant Docs = 9, Irrelevant Docs = 9\n",
      "\tAll are of shaped: (128,)? True\n",
      "Training ID: 33374\n",
      "\tThe query text is ['what is hydrocodone liquid used for'\n",
      " 'what is hydrocodone liquid used for'\n",
      " 'what is hydrocodone liquid used for'\n",
      " 'what is hydrocodone liquid used for'\n",
      " 'what is hydrocodone liquid used for']\n",
      "2th triple with query_id: 39304\n",
      "\t#Relevant Docs = 5, Irrelevant Docs = 5\n",
      "\tAll are of shaped: (128,)? True\n",
      "Training ID: 39304\n",
      "\tThe query text is ['calcium supplements causing muscle pain'\n",
      " 'calcium supplements causing muscle pain']\n",
      "3th triple with query_id: 86472\n",
      "\t#Relevant Docs = 5, Irrelevant Docs = 5\n",
      "\tAll are of shaped: (128,)? True\n",
      "Training ID: 86472\n",
      "\tThe query text is ['what kind of bonds are found in starch'\n",
      " 'what kind of bonds are found in starch']\n",
      "4th triple with query_id: 54690\n",
      "\t#Relevant Docs = 8, Irrelevant Docs = 8\n",
      "\tAll are of shaped: (128,)? True\n",
      "Training ID: 54690\n",
      "\tThe query text is ['what states is tobacco grown in' 'what states is tobacco grown in']\n"
     ]
    }
   ],
   "source": [
    "### How does each triple look before we feed it into the dataset\n",
    "for i, training_triple in enumerate(training_triples[0:5]):\n",
    "    print(f\"{i}th triple with query_id: {training_triple[0]}\")\n",
    "    print(\n",
    "        f\"\\t#Relevant Docs = {len(training_triple.relevant_doc_embedding)}, Irrelevant Docs = {len(training_triple.irrelevant_doc_embedding)}\"\n",
    "    )\n",
    "    print(\n",
    "        f\"\\tAll are of shaped: {training_triple.relevant_doc_embedding[0].shape}? {all([i.shape == training_triple.relevant_doc_embedding[0].shape for i in training_triple.relevant_doc_embedding])}\"\n",
    "    )\n",
    "    # print((training_dataset_copy.query_id == training_triple.query_id).sum())\n",
    "    print(\n",
    "        f\"\\tThe query text is {training_dataset_copy[training_dataset_copy.query_id == training_triple.query_id]['query'].values}\"\n",
    "    )"
   ]
  },
  {
   "cell_type": "code",
   "execution_count": 301,
   "metadata": {},
   "outputs": [],
   "source": [
    "class TripletDataset(Dataset):\n",
    "    def __init__(self, data):\n",
    "        self.data = data\n",
    "        self.unrolled_data = [\n",
    "            (qe, rde[i], ide[i])\n",
    "            for _, qe, rde, ide in self.data\n",
    "            for i in range(len(rde))\n",
    "        ]\n",
    "\n",
    "    def __len__(self):\n",
    "        return len(self.unrolled_data)\n",
    "\n",
    "    def __getitem__(self, idx):\n",
    "        return self.unrolled_data[idx]"
   ]
  },
  {
   "cell_type": "code",
   "execution_count": 313,
   "metadata": {},
   "outputs": [],
   "source": [
    "training_triplet_dataset = TripletDataset(training_triples)\n",
    "test_triplet_dataset = TripletDataset(testing_triples)\n",
    "validate_triplet_dataset = TripletDataset(validation_triples)"
   ]
  },
  {
   "cell_type": "code",
   "execution_count": 303,
   "metadata": {},
   "outputs": [],
   "source": [
    "training_dataloader = DataLoader(training_triplet_dataset, batch_size=32, shuffle=False)"
   ]
  },
  {
   "cell_type": "code",
   "execution_count": 312,
   "metadata": {},
   "outputs": [
    {
     "name": "stdout",
     "output_type": "stream",
     "text": [
      "torch.Size([32, 128])\n",
      "torch.Size([32, 128])\n",
      "torch.Size([32, 128])\n"
     ]
    }
   ],
   "source": [
    "for i, (q, rel, irrel) in enumerate(training_dataloader):\n",
    "    print(q.shape)\n",
    "    print(rel.shape)\n",
    "    print(irrel.shape)\n",
    "\n",
    "    break"
   ]
  },
  {
   "cell_type": "code",
   "execution_count": null,
   "metadata": {},
   "outputs": [],
   "source": [
    "# Feed the data through two tower RNN, simple RNNs to\n",
    "# start. No LSTM or GRUs with a margin and triplet loss.\n",
    "import torch\n",
    "import torch.nn as nn\n",
    "import torch.nn.functional as F\n",
    "import torch.optim as optim\n",
    "import numpy as np\n",
    "\n",
    "\n",
    "class TwoTowerRNN(nn.Module):\n",
    "    def __init__(self, input_size, hidden_size, output_size):\n",
    "        super(TwoTowerRNN, self).__init__()\n",
    "        self.hidden_size = hidden_size\n",
    "        self.rnn1 = nn.RNN(input_size, hidden_size)\n",
    "        self.rnn2 = nn.RNN(input_size, hidden_size)\n",
    "        self.fc = nn.Linear(hidden_size, output_size)\n",
    "\n",
    "    def forward(self, q, rel, irrel):\n",
    "\n",
    "        q_out, q_hidden = self.rnn1(q)\n",
    "        rel_out, rel_hidden = self.rnn2(rel)\n",
    "        irrel_out, irrel_hidden = self.rnn2(irrel)\n",
    "        return q_out, rel_out, irrel_out\n",
    "\n",
    "    def initHidden(self):\n",
    "        return torch.zeros(1, 1, self.hidden_size)"
   ]
  }
 ],
 "metadata": {
  "kernelspec": {
   "display_name": ".venv",
   "language": "python",
   "name": "python3"
  },
  "language_info": {
   "codemirror_mode": {
    "name": "ipython",
    "version": 3
   },
   "file_extension": ".py",
   "mimetype": "text/x-python",
   "name": "python",
   "nbconvert_exporter": "python",
   "pygments_lexer": "ipython3",
   "version": "3.11.3"
  }
 },
 "nbformat": 4,
 "nbformat_minor": 2
}
